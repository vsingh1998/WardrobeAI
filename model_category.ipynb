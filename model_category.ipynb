{
 "cells": [
  {
   "cell_type": "code",
   "execution_count": 1,
   "metadata": {},
   "outputs": [],
   "source": [
    "import tensorflow as tf\n",
    "from tensorflow.keras.utils import plot_model\n",
    "from tensorflow import keras\n",
    "from tensorflow.keras.preprocessing import image\n",
    "from tensorflow.keras import layers\n",
    "\n",
    "from sklearn.preprocessing import LabelEncoder\n",
    "\n",
    "import numpy as np\n",
    "import matplotlib.pyplot as plt\n",
    "import pandas as pd\n",
    "import cv2"
   ]
  },
  {
   "cell_type": "code",
   "execution_count": 2,
   "metadata": {},
   "outputs": [],
   "source": [
    "from utils import remove_items, split_data, group_color"
   ]
  },
  {
   "cell_type": "code",
   "execution_count": 3,
   "metadata": {},
   "outputs": [],
   "source": [
    "def clean_df(csv_path=\"data/styles.csv\"):\n",
    "      \"\"\"\n",
    "      function to fetch and clean the data\n",
    "\n",
    "      input : csv_path, path to .csv file\n",
    "      return: styles, dataframe\n",
    "      \"\"\"\n",
    "\n",
    "      styles = pd.read_csv(csv_path, on_bad_lines='skip')\n",
    "\n",
    "      # drop unnecessary columns which are not needed to make recommendation\n",
    "      styles = styles.drop([\"productDisplayName\"], axis=1) \n",
    "      styles = styles.drop([\"year\"], axis=1) \n",
    "      styles = styles[(styles.masterCategory=='Apparel')|(styles.masterCategory=='Footwear')]\n",
    "      styles = styles.drop(styles[styles[\"subCategory\"]==\"Innerwear\"].index)\n",
    "      styles = styles.dropna()\n",
    "\n",
    "      styles = remove_items(styles,\"subCategory\", [\"Apparel Set\", \"Dress\", \"Loungewear and Nightwear\", \"Saree\", \"Socks\"])\n",
    "      styles[\"subCategory\"] = styles[\"subCategory\"].transform(lambda x: \"Footwear\" if (x in [\"Shoes\", \"Flip Flops\", \"Sandal\"]) else x)\n",
    "      styles = styles.drop(labels = [6695, 16194, 32309, 36381, 40000], axis=0) # drop incomplete rows\n",
    "\n",
    "      # group colors to the color-wheel\n",
    "      group_color(styles) \n",
    "\n",
    "      return styles"
   ]
  },
  {
   "cell_type": "code",
   "execution_count": 4,
   "metadata": {},
   "outputs": [
    {
     "data": {
      "text/plain": [
       "array(['Topwear', 'Bottomwear', 'Footwear'], dtype=object)"
      ]
     },
     "execution_count": 4,
     "metadata": {},
     "output_type": "execute_result"
    }
   ],
   "source": [
    "styles = clean_df()\n",
    "styles[\"subCategory\"].unique() # sanity check after cleaning df: three subcategories"
   ]
  },
  {
   "cell_type": "code",
   "execution_count": 5,
   "metadata": {},
   "outputs": [],
   "source": [
    "le = LabelEncoder()\n",
    "styles[\"subCategory\"] = le.fit_transform(styles[\"subCategory\"])"
   ]
  },
  {
   "cell_type": "code",
   "execution_count": 6,
   "metadata": {},
   "outputs": [],
   "source": [
    "def create_array(df):\n",
    "      \"\"\"\n",
    "      function to fetch dataset \n",
    "\n",
    "      input : dataframe\n",
    "      return: dataset\n",
    "      \"\"\"\n",
    "\n",
    "      train_imgs = np.zeros((len(df.id), 80, 60, 3))\n",
    "\n",
    "      for i in range(len(df.id)):      \n",
    "        ID = df.id.iloc[i]\n",
    "        img_path = f\"data/images/{ID}.jpg\"   \n",
    "        img = cv2.imread(img_path)\n",
    "\n",
    "        if img.shape != (80, 60, 3):\n",
    "          img = image.load_img(img_path, target_size=(80, 60, 3))\n",
    "\n",
    "        train_imgs[i] = img\n",
    "\n",
    "      data = tf.data.Dataset.from_tensor_slices(\n",
    "      (\n",
    "        {\n",
    "          \"images\": train_imgs\n",
    "        },\n",
    "        \n",
    "        {\n",
    "          \"subCategory\": df[[\"subCategory\"]]\n",
    "        }\n",
    "      )\n",
    "      )\n",
    "\n",
    "      return data"
   ]
  },
  {
   "cell_type": "code",
   "execution_count": 7,
   "metadata": {},
   "outputs": [],
   "source": [
    "def build_model(width, height, num_classes):\n",
    "        \"\"\"\n",
    "        function to build model for subCategories\n",
    "\n",
    "        input : width, image width \n",
    "                height, image height\n",
    "                num_classes, number of classes\n",
    "        return: keras.Model\n",
    "        \"\"\"\n",
    "\n",
    "        resnet50 = keras.applications.ResNet50(weights='imagenet', include_top=False, input_shape=(80, 60, 3))\n",
    "        resnet50.trainable=False\n",
    "\n",
    "        inputs = keras.Input(shape=(width,height,3), name=\"images\")\n",
    "\n",
    "        x = layers.RandomFlip(\"horizontal\")(inputs)\n",
    "        x = layers.RandomRotation(factor=0.2)(x)\n",
    "        x = layers.RandomZoom(height_factor=0.1, width_factor=0.1)(x)\n",
    "        x = layers.RandomContrast(factor=0.2)(x)\n",
    "\n",
    "        x = resnet50(x, training=False)\n",
    "        x = layers.Conv2D(32, (2, 2), activation='relu')(x)\n",
    "        x = layers.Flatten()(x)\n",
    "        x = layers.Dense(1024, activation='relu', kernel_regularizer=keras.regularizers.l2(l=0.1))(x)\n",
    "        x = layers.Dense(512, activation=\"relu\", kernel_regularizer=keras.regularizers.l2(l=0.1))(x)\n",
    "        x = layers.Dropout(0.25)(x)\n",
    "        x = layers.Dense(256, activation='relu', kernel_regularizer=keras.regularizers.l2(l=0.1))(x)\n",
    "        x = layers.Dropout(0.25)(x)\n",
    "        x = layers.Dense(128, activation='relu', kernel_regularizer=keras.regularizers.l2(l=0.1))(x)\n",
    "        x = layers.Dropout(0.25)(x)\n",
    "        x = layers.Dense(64, activation='relu', kernel_regularizer=keras.regularizers.l2(l=0.1))(x)\n",
    "        x = layers.Dropout(0.25)(x)\n",
    "        x = layers.Dense(len(num_classes))(x)\n",
    "        x = layers.Activation('softmax', name='subCategory')(x)\n",
    "\n",
    "        model = keras.Model(inputs=inputs, outputs=x)\n",
    "\n",
    "        return model"
   ]
  },
  {
   "cell_type": "code",
   "execution_count": 8,
   "metadata": {},
   "outputs": [
    {
     "name": "stdout",
     "output_type": "stream",
     "text": [
      "Model: \"model\"\n",
      "_________________________________________________________________\n",
      " Layer (type)                Output Shape              Param #   \n",
      "=================================================================\n",
      " images (InputLayer)         [(None, 80, 60, 3)]       0         \n",
      "                                                                 \n",
      " random_flip (RandomFlip)    (None, 80, 60, 3)         0         \n",
      "                                                                 \n",
      " random_rotation (RandomRota  (None, 80, 60, 3)        0         \n",
      " tion)                                                           \n",
      "                                                                 \n",
      " random_zoom (RandomZoom)    (None, 80, 60, 3)         0         \n",
      "                                                                 \n",
      " random_contrast (RandomCont  (None, 80, 60, 3)        0         \n",
      " rast)                                                           \n",
      "                                                                 \n",
      " resnet50 (Functional)       (None, 3, 2, 2048)        23587712  \n",
      "                                                                 \n",
      " conv2d (Conv2D)             (None, 2, 1, 32)          262176    \n",
      "                                                                 \n",
      " flatten (Flatten)           (None, 64)                0         \n",
      "                                                                 \n",
      " dense (Dense)               (None, 1024)              66560     \n",
      "                                                                 \n",
      " dense_1 (Dense)             (None, 512)               524800    \n",
      "                                                                 \n",
      " dropout (Dropout)           (None, 512)               0         \n",
      "                                                                 \n",
      " dense_2 (Dense)             (None, 256)               131328    \n",
      "                                                                 \n",
      " dropout_1 (Dropout)         (None, 256)               0         \n",
      "                                                                 \n",
      " dense_3 (Dense)             (None, 128)               32896     \n",
      "                                                                 \n",
      " dropout_2 (Dropout)         (None, 128)               0         \n",
      "                                                                 \n",
      " dense_4 (Dense)             (None, 64)                8256      \n",
      "                                                                 \n",
      " dropout_3 (Dropout)         (None, 64)                0         \n",
      "                                                                 \n",
      " dense_5 (Dense)             (None, 3)                 195       \n",
      "                                                                 \n",
      " subCategory (Activation)    (None, 3)                 0         \n",
      "                                                                 \n",
      "=================================================================\n",
      "Total params: 24,613,923\n",
      "Trainable params: 1,026,211\n",
      "Non-trainable params: 23,587,712\n",
      "_________________________________________________________________\n"
     ]
    }
   ],
   "source": [
    "batch_size = 32\n",
    "epochs = 15\n",
    "\n",
    "sub_train, sub_val, sub_test = split_data(create_array(styles), batch_size=batch_size)\n",
    "\n",
    "sub_model = build_model(80, 60, num_classes=le.classes_)\n",
    "sub_model.summary()\n",
    "\n",
    "sub_model.compile(optimizer='adam',\n",
    "                  loss=tf.keras.losses.SparseCategoricalCrossentropy(from_logits=False),\n",
    "                  metrics=['accuracy'])"
   ]
  },
  {
   "cell_type": "code",
   "execution_count": 9,
   "metadata": {},
   "outputs": [
    {
     "name": "stdout",
     "output_type": "stream",
     "text": [
      "Epoch 1/15\n"
     ]
    },
    {
     "name": "stderr",
     "output_type": "stream",
     "text": [
      "2022-07-18 16:37:04.981742: W tensorflow/core/platform/profile_utils/cpu_utils.cc:128] Failed to get CPU frequency: 0 Hz\n"
     ]
    },
    {
     "name": "stdout",
     "output_type": "stream",
     "text": [
      "511/511 [==============================] - 187s 362ms/step - loss: 7.3626 - accuracy: 0.9202 - val_loss: 0.2998 - val_accuracy: 0.9824\n",
      "Epoch 2/15\n",
      "511/511 [==============================] - 183s 359ms/step - loss: 0.3412 - accuracy: 0.9670 - val_loss: 0.2781 - val_accuracy: 0.9744\n",
      "Epoch 3/15\n",
      "511/511 [==============================] - 183s 359ms/step - loss: 0.2860 - accuracy: 0.9727 - val_loss: 0.2195 - val_accuracy: 0.9868\n",
      "Epoch 4/15\n",
      "511/511 [==============================] - 186s 364ms/step - loss: 0.2566 - accuracy: 0.9764 - val_loss: 0.2253 - val_accuracy: 0.9847\n",
      "Epoch 5/15\n",
      "511/511 [==============================] - 180s 352ms/step - loss: 0.2359 - accuracy: 0.9777 - val_loss: 0.2010 - val_accuracy: 0.9873\n",
      "Epoch 6/15\n",
      "511/511 [==============================] - 178s 349ms/step - loss: 0.2279 - accuracy: 0.9791 - val_loss: 0.2140 - val_accuracy: 0.9855\n",
      "Epoch 7/15\n",
      "511/511 [==============================] - 187s 365ms/step - loss: 0.2174 - accuracy: 0.9799 - val_loss: 0.2047 - val_accuracy: 0.9833\n",
      "Epoch 8/15\n",
      "511/511 [==============================] - 181s 354ms/step - loss: 0.2050 - accuracy: 0.9799 - val_loss: 0.1902 - val_accuracy: 0.9879\n",
      "Epoch 9/15\n",
      "511/511 [==============================] - 205s 402ms/step - loss: 0.1961 - accuracy: 0.9812 - val_loss: 0.1635 - val_accuracy: 0.9899\n",
      "Epoch 10/15\n",
      "511/511 [==============================] - 207s 406ms/step - loss: 0.1888 - accuracy: 0.9829 - val_loss: 0.1581 - val_accuracy: 0.9915\n",
      "Epoch 11/15\n",
      "511/511 [==============================] - 214s 419ms/step - loss: 0.1826 - accuracy: 0.9822 - val_loss: 0.2150 - val_accuracy: 0.9770\n",
      "Epoch 12/15\n",
      "511/511 [==============================] - 179s 349ms/step - loss: 0.1775 - accuracy: 0.9832 - val_loss: 0.1830 - val_accuracy: 0.9849\n",
      "Epoch 13/15\n",
      "511/511 [==============================] - 177s 347ms/step - loss: 0.1726 - accuracy: 0.9840 - val_loss: 0.1386 - val_accuracy: 0.9923\n",
      "Epoch 14/15\n",
      "511/511 [==============================] - 182s 357ms/step - loss: 0.1655 - accuracy: 0.9847 - val_loss: 0.1565 - val_accuracy: 0.9886\n",
      "Epoch 15/15\n",
      "511/511 [==============================] - 198s 388ms/step - loss: 0.1600 - accuracy: 0.9858 - val_loss: 0.1435 - val_accuracy: 0.9879\n"
     ]
    }
   ],
   "source": [
    "plot_model(sub_model, to_file='model_category.png')\n",
    "\n",
    "with tf.device(\"/gpu:0\"):\n",
    "    sub_history = sub_model.fit(sub_train, epochs=epochs, validation_data=sub_val)"
   ]
  },
  {
   "cell_type": "code",
   "execution_count": 10,
   "metadata": {},
   "outputs": [
    {
     "data": {
      "image/png": "[encoded data removed]",
      "text/plain": [
       "<Figure size 432x288 with 1 Axes>"
      ]
     },
     "metadata": {
      "needs_background": "light"
     },
     "output_type": "display_data"
    }
   ],
   "source": [
    "plt.plot(sub_history.history['loss'], label='train_loss')\n",
    "plt.plot(sub_history.history['val_loss'], label='val_loss')\n",
    "plt.title(\"Loss Curve\")\n",
    "plt.xlabel(\"Epochs\"), plt.ylabel(\"Loss\"), plt.legend(loc=\"best\")\n",
    "plt.tight_layout()\n",
    "plt.show()"
   ]
  },
  {
   "cell_type": "code",
   "execution_count": 11,
   "metadata": {},
   "outputs": [
    {
     "data": {
      "image/png": "[encoded data removed]",
      "text/plain": [
       "<Figure size 432x288 with 1 Axes>"
      ]
     },
     "metadata": {
      "needs_background": "light"
     },
     "output_type": "display_data"
    }
   ],
   "source": [
    "plt.plot(sub_history.history['accuracy'], label='train_accuracy')\n",
    "plt.plot(sub_history.history['val_accuracy'], label='val_accuracy')\n",
    "plt.title(\"Accuracy Curve\")\n",
    "plt.xlabel(\"Epoch\"), plt.ylabel(\"Accuracy\"), plt.legend(loc=\"best\")\n",
    "plt.tight_layout()\n",
    "plt.show()"
   ]
  },
  {
   "cell_type": "code",
   "execution_count": 12,
   "metadata": {},
   "outputs": [
    {
     "name": "stdout",
     "output_type": "stream",
     "text": [
      "170/170 [==============================] - 56s 312ms/step - loss: 0.1454 - accuracy: 0.9893\n"
     ]
    },
    {
     "name": "stderr",
     "output_type": "stream",
     "text": [
      "2022-07-18 17:25:22.484521: W tensorflow/python/util/util.cc:368] Sets are not currently considered sequences, but this may change in the future, so consider avoiding using them.\n"
     ]
    },
    {
     "name": "stdout",
     "output_type": "stream",
     "text": [
      "INFO:tensorflow:Assets written to: /Users/zkahmad/Library/CloudStorage/GoogleDrive-zebakarin@gmail.com/My Drive/Masters/Sem 2/DS/Project/outfit_recommendation_miniproject/Run/models/models/model_category/assets\n"
     ]
    }
   ],
   "source": [
    "sub_model.evaluate(sub_test)\n",
    "sub_model.save(\"/models/models/model_category\")"
   ]
  }
 ],
 "metadata": {
  "kernelspec": {
   "display_name": "Python 3.8.10 64-bit",
   "language": "python",
   "name": "python3"
  },
  "language_info": {
   "codemirror_mode": {
    "name": "ipython",
    "version": 3
   },
   "file_extension": ".py",
   "mimetype": "text/x-python",
   "name": "python",
   "nbconvert_exporter": "python",
   "pygments_lexer": "ipython3",
   "version": "3.8.10"
  },
  "orig_nbformat": 4,
  "vscode": {
   "interpreter": {
    "hash": "916dbcbb3f70747c44a77c7bcd40155683ae19c65e1c03b4aa3499c5328201f1"
   }
  }
 },
 "nbformat": 4,
 "nbformat_minor": 2
}
